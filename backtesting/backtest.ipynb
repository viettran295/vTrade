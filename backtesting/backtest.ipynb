{
 "cells": [
  {
   "cell_type": "code",
   "execution_count": 7,
   "metadata": {},
   "outputs": [
    {
     "name": "stderr",
     "output_type": "stream",
     "text": [
      "\u001b[32m2025-03-02 21:36:23.210\u001b[0m | \u001b[34m\u001b[1mDEBUG   \u001b[0m | \u001b[36mstrategy.vtrade\u001b[0m:\u001b[36mget_stocks_async\u001b[0m:\u001b[36m23\u001b[0m - \u001b[34m\u001b[1mFetching ['NVDA'] data\u001b[0m\n",
      "\u001b[32m2025-03-02 21:36:23.308\u001b[0m | \u001b[34m\u001b[1mDEBUG   \u001b[0m | \u001b[36mstrategy.vtrade\u001b[0m:\u001b[36m__fetch_stock_data\u001b[0m:\u001b[36m39\u001b[0m - \u001b[34m\u001b[1mReceived response when fetch NVDA data\u001b[0m\n",
      "\u001b[32m2025-03-02 21:36:23.313\u001b[0m | \u001b[1mINFO    \u001b[0m | \u001b[36mstrategy.strategy\u001b[0m:\u001b[36mcalc_MA\u001b[0m:\u001b[36m34\u001b[0m - \u001b[1mSMA is calculated\u001b[0m\n",
      "\u001b[32m2025-03-02 21:36:23.313\u001b[0m | \u001b[1mINFO    \u001b[0m | \u001b[36mutils.utils\u001b[0m:\u001b[36mwrapper\u001b[0m:\u001b[36m21\u001b[0m - \u001b[1mcalc_MA took 0.0008263587951660156s\u001b[0m\n",
      "\u001b[32m2025-03-02 21:36:23.315\u001b[0m | \u001b[1mINFO    \u001b[0m | \u001b[36mstrategy.strategy\u001b[0m:\u001b[36mcalc_MA\u001b[0m:\u001b[36m34\u001b[0m - \u001b[1mSMA is calculated\u001b[0m\n",
      "\u001b[32m2025-03-02 21:36:23.315\u001b[0m | \u001b[1mINFO    \u001b[0m | \u001b[36mutils.utils\u001b[0m:\u001b[36mwrapper\u001b[0m:\u001b[36m21\u001b[0m - \u001b[1mcalc_MA took 0.001094818115234375s\u001b[0m\n",
      "\u001b[32m2025-03-02 21:36:23.319\u001b[0m | \u001b[1mINFO    \u001b[0m | \u001b[36mstrategy.strategy\u001b[0m:\u001b[36mcalc_crossing_MA\u001b[0m:\u001b[36m78\u001b[0m - \u001b[1mCalculated crossing MA points\u001b[0m\n",
      "\u001b[32m2025-03-02 21:36:23.320\u001b[0m | \u001b[1mINFO    \u001b[0m | \u001b[36mstrategy.strategy\u001b[0m:\u001b[36mcalc_crossing_MA\u001b[0m:\u001b[36m79\u001b[0m - \u001b[1mSell-buy signal for crossing MA is generated\u001b[0m\n",
      "\u001b[32m2025-03-02 21:36:23.320\u001b[0m | \u001b[1mINFO    \u001b[0m | \u001b[36mutils.utils\u001b[0m:\u001b[36mwrapper\u001b[0m:\u001b[36m21\u001b[0m - \u001b[1mcalc_crossing_MA took 0.004370212554931641s\u001b[0m\n"
     ]
    }
   ],
   "source": [
    "from strategy import Strategy\n",
    "from strategy import vTrade\n",
    "import asyncio\n",
    "\n",
    "stock = \"NVDA\"\n",
    "short_MA = \"SMA20\"\n",
    "long_MA = \"SMA50\"\n",
    "vtr = vTrade()\n",
    "resp = await vtr.get_stocks_async([stock])\n",
    "df = resp[stock]\n",
    "\n",
    "strategy = Strategy()\n",
    "df = strategy.calc_MA(df, short_MA)\n",
    "df = strategy.calc_MA(df, long_MA)\n",
    "df = strategy.calc_crossing_MA(df, short_MA, long_MA)\n",
    "# df = strategy.calc_RSI(df)\n",
    "# df = strategy.calc_bollinger_bands(df)"
   ]
  },
  {
   "cell_type": "code",
   "execution_count": 8,
   "metadata": {},
   "outputs": [
    {
     "name": "stderr",
     "output_type": "stream",
     "text": [
      "\u001b[32m2025-03-02 21:36:23.411\u001b[0m | \u001b[1mINFO    \u001b[0m | \u001b[36mbacktesting\u001b[0m:\u001b[36mreport\u001b[0m:\u001b[36m62\u001b[0m - \u001b[1m================ Report ====================\u001b[0m\n",
      "\u001b[32m2025-03-02 21:36:23.412\u001b[0m | \u001b[1mINFO    \u001b[0m | \u001b[36mbacktesting\u001b[0m:\u001b[36mreport\u001b[0m:\u001b[36m63\u001b[0m - \u001b[1mInitial cash: 10000\u001b[0m\n",
      "\u001b[32m2025-03-02 21:36:23.413\u001b[0m | \u001b[1mINFO    \u001b[0m | \u001b[36mbacktesting\u001b[0m:\u001b[36mreport\u001b[0m:\u001b[36m64\u001b[0m - \u001b[1mFinal cash: 13991.755000000001\u001b[0m\n",
      "\u001b[32m2025-03-02 21:36:23.415\u001b[0m | \u001b[1mINFO    \u001b[0m | \u001b[36mbacktesting\u001b[0m:\u001b[36mreport\u001b[0m:\u001b[36m65\u001b[0m - \u001b[1mAmount buy: 0\u001b[0m\n",
      "\u001b[32m2025-03-02 21:36:23.416\u001b[0m | \u001b[1mINFO    \u001b[0m | \u001b[36mbacktesting\u001b[0m:\u001b[36mreport\u001b[0m:\u001b[36m66\u001b[0m - \u001b[1mAmount sell: 0\u001b[0m\n",
      "\u001b[32m2025-03-02 21:36:23.417\u001b[0m | \u001b[1mINFO    \u001b[0m | \u001b[36mbacktesting\u001b[0m:\u001b[36mreport\u001b[0m:\u001b[36m67\u001b[0m - \u001b[1mNumber of shares: 0.0\u001b[0m\n",
      "\u001b[32m2025-03-02 21:36:23.419\u001b[0m | \u001b[1mINFO    \u001b[0m | \u001b[36mbacktesting\u001b[0m:\u001b[36mreport\u001b[0m:\u001b[36m68\u001b[0m - \u001b[1mProfit: 3991.755000000001\u001b[0m\n",
      "\u001b[32m2025-03-02 21:36:23.420\u001b[0m | \u001b[1mINFO    \u001b[0m | \u001b[36mbacktesting\u001b[0m:\u001b[36mreport\u001b[0m:\u001b[36m69\u001b[0m - \u001b[1mPercentage profit: 39.91755000000001%\u001b[0m\n"
     ]
    }
   ],
   "source": [
    "from backtesting import BackTesting\n",
    "\n",
    "bt = BackTesting()\n",
    "bt.set_data(df)\n",
    "bt.run()\n",
    "bt.report()"
   ]
  },
  {
   "cell_type": "code",
   "execution_count": 9,
   "metadata": {},
   "outputs": [
    {
     "data": {
      "application/vnd.plotly.v1+json": {
       "config": {
        "plotlyServerURL": "https://plot.ly"
       },
       "data": [
        {
         "mode": "lines",
         "name": "Profit",
         "type": "scatter",
         "x": [
          "2022-08-04",
          "2022-09-08",
          "2022-11-09",
          "2023-01-12",
          "2023-01-26",
          "2023-09-26",
          "2023-11-15",
          "2024-04-30",
          "2024-05-21",
          "2024-08-05",
          "2024-09-09",
          "2024-09-19",
          "2024-10-03",
          "2024-12-17"
         ],
         "xaxis": "x",
         "y": [
          -19.983599999999996,
          -5.433999999999997,
          -25.4092,
          -1.4682500000000072,
          -21.270250000000004,
          20.640750000000008,
          1.085550000000003,
          35.646350000000005,
          16.569150000000008,
          36.659150000000004,
          17.494550000000018,
          38.71115000000002,
          19.055150000000012,
          39.91755000000001
         ],
         "yaxis": "y"
        },
        {
         "mode": "lines",
         "name": "Cash",
         "type": "scatter",
         "x": [
          "2022-08-04",
          "2022-09-08",
          "2022-11-09",
          "2023-01-12",
          "2023-01-26",
          "2023-09-26",
          "2023-11-15",
          "2024-04-30",
          "2024-05-21",
          "2024-08-05",
          "2024-09-09",
          "2024-09-19",
          "2024-10-03",
          "2024-12-17"
         ],
         "xaxis": "x2",
         "y": [
          8001.64,
          9456.6,
          7459.08,
          9853.175,
          7872.974999999999,
          12064.075,
          10108.555,
          13564.635,
          11656.915,
          13665.915,
          11749.455000000002,
          13871.115000000002,
          11905.515000000001,
          13991.755000000001
         ],
         "yaxis": "y2"
        },
        {
         "mode": "lines",
         "name": "Shares",
         "type": "scatter",
         "x": [
          "2022-08-04",
          "2022-09-08",
          "2022-11-09",
          "2023-01-12",
          "2023-01-26",
          "2023-09-26",
          "2023-11-15",
          "2024-04-30",
          "2024-05-21",
          "2024-08-05",
          "2024-09-09",
          "2024-09-19",
          "2024-10-03",
          "2024-12-17"
         ],
         "xaxis": "x3",
         "y": [
          104,
          0,
          145,
          0,
          100,
          0,
          40,
          0,
          20,
          0,
          18,
          0,
          16,
          0
         ],
         "yaxis": "y3"
        }
       ],
       "layout": {
        "shapes": [
         {
          "line": {
           "color": "red",
           "dash": "dash"
          },
          "type": "line",
          "x0": 0,
          "x1": 1,
          "xref": "x domain",
          "y0": 0,
          "y1": 0,
          "yref": "y"
         }
        ],
        "template": {
         "data": {
          "bar": [
           {
            "error_x": {
             "color": "#f2f5fa"
            },
            "error_y": {
             "color": "#f2f5fa"
            },
            "marker": {
             "line": {
              "color": "rgb(17,17,17)",
              "width": 0.5
             },
             "pattern": {
              "fillmode": "overlay",
              "size": 10,
              "solidity": 0.2
             }
            },
            "type": "bar"
           }
          ],
          "barpolar": [
           {
            "marker": {
             "line": {
              "color": "rgb(17,17,17)",
              "width": 0.5
             },
             "pattern": {
              "fillmode": "overlay",
              "size": 10,
              "solidity": 0.2
             }
            },
            "type": "barpolar"
           }
          ],
          "carpet": [
           {
            "aaxis": {
             "endlinecolor": "#A2B1C6",
             "gridcolor": "#506784",
             "linecolor": "#506784",
             "minorgridcolor": "#506784",
             "startlinecolor": "#A2B1C6"
            },
            "baxis": {
             "endlinecolor": "#A2B1C6",
             "gridcolor": "#506784",
             "linecolor": "#506784",
             "minorgridcolor": "#506784",
             "startlinecolor": "#A2B1C6"
            },
            "type": "carpet"
           }
          ],
          "choropleth": [
           {
            "colorbar": {
             "outlinewidth": 0,
             "ticks": ""
            },
            "type": "choropleth"
           }
          ],
          "contour": [
           {
            "colorbar": {
             "outlinewidth": 0,
             "ticks": ""
            },
            "colorscale": [
             [
              0,
              "#0d0887"
             ],
             [
              0.1111111111111111,
              "#46039f"
             ],
             [
              0.2222222222222222,
              "#7201a8"
             ],
             [
              0.3333333333333333,
              "#9c179e"
             ],
             [
              0.4444444444444444,
              "#bd3786"
             ],
             [
              0.5555555555555556,
              "#d8576b"
             ],
             [
              0.6666666666666666,
              "#ed7953"
             ],
             [
              0.7777777777777778,
              "#fb9f3a"
             ],
             [
              0.8888888888888888,
              "#fdca26"
             ],
             [
              1,
              "#f0f921"
             ]
            ],
            "type": "contour"
           }
          ],
          "contourcarpet": [
           {
            "colorbar": {
             "outlinewidth": 0,
             "ticks": ""
            },
            "type": "contourcarpet"
           }
          ],
          "heatmap": [
           {
            "colorbar": {
             "outlinewidth": 0,
             "ticks": ""
            },
            "colorscale": [
             [
              0,
              "#0d0887"
             ],
             [
              0.1111111111111111,
              "#46039f"
             ],
             [
              0.2222222222222222,
              "#7201a8"
             ],
             [
              0.3333333333333333,
              "#9c179e"
             ],
             [
              0.4444444444444444,
              "#bd3786"
             ],
             [
              0.5555555555555556,
              "#d8576b"
             ],
             [
              0.6666666666666666,
              "#ed7953"
             ],
             [
              0.7777777777777778,
              "#fb9f3a"
             ],
             [
              0.8888888888888888,
              "#fdca26"
             ],
             [
              1,
              "#f0f921"
             ]
            ],
            "type": "heatmap"
           }
          ],
          "histogram": [
           {
            "marker": {
             "pattern": {
              "fillmode": "overlay",
              "size": 10,
              "solidity": 0.2
             }
            },
            "type": "histogram"
           }
          ],
          "histogram2d": [
           {
            "colorbar": {
             "outlinewidth": 0,
             "ticks": ""
            },
            "colorscale": [
             [
              0,
              "#0d0887"
             ],
             [
              0.1111111111111111,
              "#46039f"
             ],
             [
              0.2222222222222222,
              "#7201a8"
             ],
             [
              0.3333333333333333,
              "#9c179e"
             ],
             [
              0.4444444444444444,
              "#bd3786"
             ],
             [
              0.5555555555555556,
              "#d8576b"
             ],
             [
              0.6666666666666666,
              "#ed7953"
             ],
             [
              0.7777777777777778,
              "#fb9f3a"
             ],
             [
              0.8888888888888888,
              "#fdca26"
             ],
             [
              1,
              "#f0f921"
             ]
            ],
            "type": "histogram2d"
           }
          ],
          "histogram2dcontour": [
           {
            "colorbar": {
             "outlinewidth": 0,
             "ticks": ""
            },
            "colorscale": [
             [
              0,
              "#0d0887"
             ],
             [
              0.1111111111111111,
              "#46039f"
             ],
             [
              0.2222222222222222,
              "#7201a8"
             ],
             [
              0.3333333333333333,
              "#9c179e"
             ],
             [
              0.4444444444444444,
              "#bd3786"
             ],
             [
              0.5555555555555556,
              "#d8576b"
             ],
             [
              0.6666666666666666,
              "#ed7953"
             ],
             [
              0.7777777777777778,
              "#fb9f3a"
             ],
             [
              0.8888888888888888,
              "#fdca26"
             ],
             [
              1,
              "#f0f921"
             ]
            ],
            "type": "histogram2dcontour"
           }
          ],
          "mesh3d": [
           {
            "colorbar": {
             "outlinewidth": 0,
             "ticks": ""
            },
            "type": "mesh3d"
           }
          ],
          "parcoords": [
           {
            "line": {
             "colorbar": {
              "outlinewidth": 0,
              "ticks": ""
             }
            },
            "type": "parcoords"
           }
          ],
          "pie": [
           {
            "automargin": true,
            "type": "pie"
           }
          ],
          "scatter": [
           {
            "marker": {
             "line": {
              "color": "#283442"
             }
            },
            "type": "scatter"
           }
          ],
          "scatter3d": [
           {
            "line": {
             "colorbar": {
              "outlinewidth": 0,
              "ticks": ""
             }
            },
            "marker": {
             "colorbar": {
              "outlinewidth": 0,
              "ticks": ""
             }
            },
            "type": "scatter3d"
           }
          ],
          "scattercarpet": [
           {
            "marker": {
             "colorbar": {
              "outlinewidth": 0,
              "ticks": ""
             }
            },
            "type": "scattercarpet"
           }
          ],
          "scattergeo": [
           {
            "marker": {
             "colorbar": {
              "outlinewidth": 0,
              "ticks": ""
             }
            },
            "type": "scattergeo"
           }
          ],
          "scattergl": [
           {
            "marker": {
             "line": {
              "color": "#283442"
             }
            },
            "type": "scattergl"
           }
          ],
          "scattermap": [
           {
            "marker": {
             "colorbar": {
              "outlinewidth": 0,
              "ticks": ""
             }
            },
            "type": "scattermap"
           }
          ],
          "scattermapbox": [
           {
            "marker": {
             "colorbar": {
              "outlinewidth": 0,
              "ticks": ""
             }
            },
            "type": "scattermapbox"
           }
          ],
          "scatterpolar": [
           {
            "marker": {
             "colorbar": {
              "outlinewidth": 0,
              "ticks": ""
             }
            },
            "type": "scatterpolar"
           }
          ],
          "scatterpolargl": [
           {
            "marker": {
             "colorbar": {
              "outlinewidth": 0,
              "ticks": ""
             }
            },
            "type": "scatterpolargl"
           }
          ],
          "scatterternary": [
           {
            "marker": {
             "colorbar": {
              "outlinewidth": 0,
              "ticks": ""
             }
            },
            "type": "scatterternary"
           }
          ],
          "surface": [
           {
            "colorbar": {
             "outlinewidth": 0,
             "ticks": ""
            },
            "colorscale": [
             [
              0,
              "#0d0887"
             ],
             [
              0.1111111111111111,
              "#46039f"
             ],
             [
              0.2222222222222222,
              "#7201a8"
             ],
             [
              0.3333333333333333,
              "#9c179e"
             ],
             [
              0.4444444444444444,
              "#bd3786"
             ],
             [
              0.5555555555555556,
              "#d8576b"
             ],
             [
              0.6666666666666666,
              "#ed7953"
             ],
             [
              0.7777777777777778,
              "#fb9f3a"
             ],
             [
              0.8888888888888888,
              "#fdca26"
             ],
             [
              1,
              "#f0f921"
             ]
            ],
            "type": "surface"
           }
          ],
          "table": [
           {
            "cells": {
             "fill": {
              "color": "#506784"
             },
             "line": {
              "color": "rgb(17,17,17)"
             }
            },
            "header": {
             "fill": {
              "color": "#2a3f5f"
             },
             "line": {
              "color": "rgb(17,17,17)"
             }
            },
            "type": "table"
           }
          ]
         },
         "layout": {
          "annotationdefaults": {
           "arrowcolor": "#f2f5fa",
           "arrowhead": 0,
           "arrowwidth": 1
          },
          "autotypenumbers": "strict",
          "coloraxis": {
           "colorbar": {
            "outlinewidth": 0,
            "ticks": ""
           }
          },
          "colorscale": {
           "diverging": [
            [
             0,
             "#8e0152"
            ],
            [
             0.1,
             "#c51b7d"
            ],
            [
             0.2,
             "#de77ae"
            ],
            [
             0.3,
             "#f1b6da"
            ],
            [
             0.4,
             "#fde0ef"
            ],
            [
             0.5,
             "#f7f7f7"
            ],
            [
             0.6,
             "#e6f5d0"
            ],
            [
             0.7,
             "#b8e186"
            ],
            [
             0.8,
             "#7fbc41"
            ],
            [
             0.9,
             "#4d9221"
            ],
            [
             1,
             "#276419"
            ]
           ],
           "sequential": [
            [
             0,
             "#0d0887"
            ],
            [
             0.1111111111111111,
             "#46039f"
            ],
            [
             0.2222222222222222,
             "#7201a8"
            ],
            [
             0.3333333333333333,
             "#9c179e"
            ],
            [
             0.4444444444444444,
             "#bd3786"
            ],
            [
             0.5555555555555556,
             "#d8576b"
            ],
            [
             0.6666666666666666,
             "#ed7953"
            ],
            [
             0.7777777777777778,
             "#fb9f3a"
            ],
            [
             0.8888888888888888,
             "#fdca26"
            ],
            [
             1,
             "#f0f921"
            ]
           ],
           "sequentialminus": [
            [
             0,
             "#0d0887"
            ],
            [
             0.1111111111111111,
             "#46039f"
            ],
            [
             0.2222222222222222,
             "#7201a8"
            ],
            [
             0.3333333333333333,
             "#9c179e"
            ],
            [
             0.4444444444444444,
             "#bd3786"
            ],
            [
             0.5555555555555556,
             "#d8576b"
            ],
            [
             0.6666666666666666,
             "#ed7953"
            ],
            [
             0.7777777777777778,
             "#fb9f3a"
            ],
            [
             0.8888888888888888,
             "#fdca26"
            ],
            [
             1,
             "#f0f921"
            ]
           ]
          },
          "colorway": [
           "#636efa",
           "#EF553B",
           "#00cc96",
           "#ab63fa",
           "#FFA15A",
           "#19d3f3",
           "#FF6692",
           "#B6E880",
           "#FF97FF",
           "#FECB52"
          ],
          "font": {
           "color": "#f2f5fa"
          },
          "geo": {
           "bgcolor": "rgb(17,17,17)",
           "lakecolor": "rgb(17,17,17)",
           "landcolor": "rgb(17,17,17)",
           "showlakes": true,
           "showland": true,
           "subunitcolor": "#506784"
          },
          "hoverlabel": {
           "align": "left"
          },
          "hovermode": "closest",
          "mapbox": {
           "style": "dark"
          },
          "paper_bgcolor": "rgb(17,17,17)",
          "plot_bgcolor": "rgb(17,17,17)",
          "polar": {
           "angularaxis": {
            "gridcolor": "#506784",
            "linecolor": "#506784",
            "ticks": ""
           },
           "bgcolor": "rgb(17,17,17)",
           "radialaxis": {
            "gridcolor": "#506784",
            "linecolor": "#506784",
            "ticks": ""
           }
          },
          "scene": {
           "xaxis": {
            "backgroundcolor": "rgb(17,17,17)",
            "gridcolor": "#506784",
            "gridwidth": 2,
            "linecolor": "#506784",
            "showbackground": true,
            "ticks": "",
            "zerolinecolor": "#C8D4E3"
           },
           "yaxis": {
            "backgroundcolor": "rgb(17,17,17)",
            "gridcolor": "#506784",
            "gridwidth": 2,
            "linecolor": "#506784",
            "showbackground": true,
            "ticks": "",
            "zerolinecolor": "#C8D4E3"
           },
           "zaxis": {
            "backgroundcolor": "rgb(17,17,17)",
            "gridcolor": "#506784",
            "gridwidth": 2,
            "linecolor": "#506784",
            "showbackground": true,
            "ticks": "",
            "zerolinecolor": "#C8D4E3"
           }
          },
          "shapedefaults": {
           "line": {
            "color": "#f2f5fa"
           }
          },
          "sliderdefaults": {
           "bgcolor": "#C8D4E3",
           "bordercolor": "rgb(17,17,17)",
           "borderwidth": 1,
           "tickwidth": 0
          },
          "ternary": {
           "aaxis": {
            "gridcolor": "#506784",
            "linecolor": "#506784",
            "ticks": ""
           },
           "baxis": {
            "gridcolor": "#506784",
            "linecolor": "#506784",
            "ticks": ""
           },
           "bgcolor": "rgb(17,17,17)",
           "caxis": {
            "gridcolor": "#506784",
            "linecolor": "#506784",
            "ticks": ""
           }
          },
          "title": {
           "x": 0.05
          },
          "updatemenudefaults": {
           "bgcolor": "#506784",
           "borderwidth": 0
          },
          "xaxis": {
           "automargin": true,
           "gridcolor": "#283442",
           "linecolor": "#506784",
           "ticks": "",
           "title": {
            "standoff": 15
           },
           "zerolinecolor": "#283442",
           "zerolinewidth": 2
          },
          "yaxis": {
           "automargin": true,
           "gridcolor": "#283442",
           "linecolor": "#506784",
           "ticks": "",
           "title": {
            "standoff": 15
           },
           "zerolinecolor": "#283442",
           "zerolinewidth": 2
          }
         }
        },
        "title": {
         "text": "Backtesting report"
        },
        "xaxis": {
         "anchor": "y",
         "domain": [
          0,
          1
         ],
         "rangeslider": {
          "visible": false
         }
        },
        "xaxis2": {
         "anchor": "y2",
         "domain": [
          0,
          1
         ]
        },
        "xaxis3": {
         "anchor": "y3",
         "domain": [
          0,
          1
         ]
        },
        "yaxis": {
         "anchor": "x",
         "domain": [
          0.7333333333333333,
          1
         ]
        },
        "yaxis2": {
         "anchor": "x2",
         "domain": [
          0.36666666666666664,
          0.6333333333333333
         ]
        },
        "yaxis3": {
         "anchor": "x3",
         "domain": [
          0,
          0.26666666666666666
         ]
        }
       }
      }
     },
     "metadata": {},
     "output_type": "display_data"
    }
   ],
   "source": [
    "bt.show_report()"
   ]
  },
  {
   "cell_type": "code",
   "execution_count": 10,
   "metadata": {},
   "outputs": [],
   "source": [
    "bt.order_size_over_profit()"
   ]
  },
  {
   "cell_type": "code",
   "execution_count": 11,
   "metadata": {},
   "outputs": [
    {
     "data": {
      "application/vnd.plotly.v1+json": {
       "config": {
        "plotlyServerURL": "https://plot.ly"
       },
       "data": [
        {
         "mode": "lines",
         "name": "Cash",
         "type": "scatter",
         "x": [
          10,
          20,
          30,
          40,
          50,
          60,
          70,
          80,
          90,
          100,
          110,
          120,
          130,
          140,
          150,
          160,
          170,
          180,
          190,
          200,
          210,
          220,
          230,
          240,
          250,
          260,
          270,
          280,
          290,
          300,
          310,
          320,
          330,
          340,
          350,
          360,
          370,
          380,
          390,
          400,
          410,
          420,
          430,
          440,
          450,
          460,
          470,
          480,
          490,
          500,
          510,
          520,
          530,
          540,
          550,
          560,
          570,
          580,
          590,
          600,
          610,
          620,
          630,
          640,
          650,
          660,
          670,
          680,
          690,
          700,
          710,
          720,
          730,
          740,
          750,
          760,
          770,
          780,
          790,
          800,
          810,
          820,
          830,
          840,
          850,
          860,
          870,
          880,
          890,
          900,
          910,
          920,
          930,
          940,
          950,
          960,
          970,
          980,
          990,
          1000,
          1010,
          1020,
          1030,
          1040,
          1050,
          1060,
          1070,
          1080,
          1090,
          1100,
          1110,
          1120,
          1130,
          1140,
          1150,
          1160,
          1170,
          1180,
          1190,
          1200,
          1210,
          1220,
          1230,
          1240,
          1250,
          1260,
          1270,
          1280,
          1290,
          1300,
          1310,
          1320,
          1330,
          1340,
          1350,
          1360,
          1370,
          1380,
          1390,
          1400,
          1410,
          1420,
          1430,
          1440,
          1450,
          1460,
          1470,
          1480,
          1490,
          1500,
          1510,
          1520,
          1530,
          1540,
          1550,
          1560,
          1570,
          1580,
          1590,
          1600,
          1610,
          1620,
          1630,
          1640,
          1650,
          1660,
          1670,
          1680,
          1690,
          1700,
          1710,
          1720,
          1730,
          1740,
          1750,
          1760,
          1770,
          1780,
          1790,
          1800,
          1810,
          1820,
          1830,
          1840,
          1850,
          1860,
          1870,
          1880,
          1890,
          1900,
          1910,
          1920,
          1930,
          1940,
          1950,
          1960,
          1970,
          1980,
          1990,
          2000,
          2010,
          2020,
          2030,
          2040,
          2050,
          2060,
          2070,
          2080,
          2090,
          2100,
          2110,
          2120,
          2130,
          2140,
          2150,
          2160,
          2170,
          2180,
          2190,
          2200,
          2210,
          2220,
          2230,
          2240,
          2250,
          2260,
          2270,
          2280,
          2290,
          2300,
          2310,
          2320,
          2330,
          2340,
          2350,
          2360,
          2370,
          2380,
          2390,
          2400,
          2410,
          2420,
          2430,
          2440,
          2450,
          2460,
          2470,
          2480,
          2490,
          2500,
          2510,
          2520,
          2530,
          2540,
          2550,
          2560,
          2570,
          2580,
          2590,
          2600,
          2610,
          2620,
          2630,
          2640,
          2650,
          2660,
          2670,
          2680,
          2690,
          2700,
          2710,
          2720,
          2730,
          2740,
          2750,
          2760,
          2770,
          2780,
          2790,
          2800,
          2810,
          2820,
          2830,
          2840,
          2850,
          2860,
          2870,
          2880,
          2890,
          2900,
          2910,
          2920,
          2930,
          2940,
          2950,
          2960,
          2970,
          2980,
          2990,
          3000,
          3010,
          3020,
          3030,
          3040,
          3050,
          3060,
          3070,
          3080,
          3090,
          3100,
          3110,
          3120,
          3130,
          3140,
          3150,
          3160,
          3170,
          3180,
          3190,
          3200,
          3210,
          3220,
          3230,
          3240,
          3250,
          3260,
          3270,
          3280,
          3290,
          3300,
          3310,
          3320,
          3330,
          3340,
          3350,
          3360,
          3370,
          3380,
          3390,
          3400,
          3410,
          3420,
          3430,
          3440,
          3450,
          3460,
          3470,
          3480,
          3490,
          3500,
          3510,
          3520,
          3530,
          3540,
          3550,
          3560,
          3570,
          3580,
          3590,
          3600,
          3610,
          3620,
          3630,
          3640,
          3650,
          3660,
          3670,
          3680,
          3690,
          3700,
          3710,
          3720,
          3730,
          3740,
          3750,
          3760,
          3770,
          3780,
          3790,
          3800,
          3810,
          3820,
          3830,
          3840,
          3850,
          3860,
          3870,
          3880,
          3890,
          3900,
          3910,
          3920,
          3930,
          3940,
          3950,
          3960,
          3970,
          3980,
          3990,
          4000,
          4010,
          4020,
          4030,
          4040,
          4050,
          4060,
          4070,
          4080,
          4090,
          4100,
          4110,
          4120,
          4130,
          4140,
          4150,
          4160,
          4170,
          4180,
          4190,
          4200,
          4210,
          4220,
          4230,
          4240,
          4250,
          4260,
          4270,
          4280,
          4290,
          4300,
          4310,
          4320,
          4330,
          4340,
          4350,
          4360,
          4370,
          4380,
          4390,
          4400,
          4410,
          4420,
          4430,
          4440,
          4450,
          4460,
          4470,
          4480,
          4490,
          4500,
          4510,
          4520,
          4530,
          4540,
          4550,
          4560,
          4570,
          4580,
          4590,
          4600,
          4610,
          4620,
          4630,
          4640,
          4650,
          4660,
          4670,
          4680,
          4690,
          4700,
          4710,
          4720,
          4730,
          4740,
          4750,
          4760,
          4770,
          4780,
          4790,
          4800,
          4810,
          4820,
          4830,
          4840,
          4850,
          4860,
          4870,
          4880,
          4890,
          4900,
          4910,
          4920,
          4930,
          4940,
          4950,
          4960,
          4970,
          4980,
          4990,
          5000,
          5010,
          5020,
          5030,
          5040,
          5050,
          5060,
          5070,
          5080,
          5090,
          5100,
          5110,
          5120,
          5130,
          5140,
          5150,
          5160,
          5170,
          5180,
          5190,
          5200,
          5210,
          5220,
          5230,
          5240,
          5250,
          5260,
          5270,
          5280,
          5290,
          5300,
          5310,
          5320,
          5330,
          5340,
          5350,
          5360,
          5370,
          5380,
          5390,
          5400,
          5410,
          5420,
          5430,
          5440,
          5450,
          5460,
          5470,
          5480,
          5490,
          5500,
          5510,
          5520,
          5530,
          5540,
          5550,
          5560,
          5570,
          5580,
          5590,
          5600,
          5610,
          5620,
          5630,
          5640,
          5650,
          5660,
          5670,
          5680,
          5690,
          5700,
          5710,
          5720,
          5730,
          5740,
          5750,
          5760,
          5770,
          5780,
          5790,
          5800,
          5810,
          5820,
          5830,
          5840,
          5850,
          5860,
          5870,
          5880,
          5890,
          5900,
          5910,
          5920,
          5930,
          5940,
          5950,
          5960,
          5970,
          5980,
          5990,
          6000,
          6010,
          6020,
          6030,
          6040,
          6050,
          6060,
          6070,
          6080,
          6090,
          6100,
          6110,
          6120,
          6130,
          6140,
          6150,
          6160,
          6170,
          6180,
          6190,
          6200,
          6210,
          6220,
          6230,
          6240,
          6250,
          6260,
          6270,
          6280,
          6290,
          6300,
          6310,
          6320,
          6330,
          6340,
          6350,
          6360,
          6370,
          6380,
          6390,
          6400,
          6410,
          6420,
          6430,
          6440,
          6450,
          6460,
          6470,
          6480,
          6490,
          6500,
          6510,
          6520,
          6530,
          6540,
          6550,
          6560,
          6570,
          6580,
          6590,
          6600,
          6610,
          6620,
          6630,
          6640,
          6650,
          6660,
          6670,
          6680,
          6690,
          6700,
          6710,
          6720,
          6730,
          6740,
          6750,
          6760,
          6770,
          6780,
          6790,
          6800,
          6810,
          6820,
          6830,
          6840,
          6850,
          6860,
          6870,
          6880,
          6890,
          6900,
          6910,
          6920,
          6930,
          6940,
          6950,
          6960,
          6970,
          6980,
          6990,
          7000,
          7010,
          7020,
          7030,
          7040,
          7050,
          7060,
          7070,
          7080,
          7090,
          7100,
          7110,
          7120,
          7130,
          7140,
          7150,
          7160,
          7170,
          7180,
          7190,
          7200,
          7210,
          7220,
          7230,
          7240,
          7250,
          7260,
          7270,
          7280,
          7290,
          7300,
          7310,
          7320,
          7330,
          7340,
          7350,
          7360,
          7370,
          7380,
          7390,
          7400,
          7410,
          7420,
          7430,
          7440,
          7450,
          7460,
          7470,
          7480,
          7490,
          7500,
          7510,
          7520,
          7530,
          7540,
          7550,
          7560,
          7570,
          7580,
          7590,
          7600,
          7610,
          7620,
          7630,
          7640,
          7650,
          7660,
          7670,
          7680,
          7690,
          7700,
          7710,
          7720,
          7730,
          7740,
          7750,
          7760,
          7770,
          7780,
          7790,
          7800,
          7810,
          7820,
          7830,
          7840,
          7850,
          7860,
          7870,
          7880,
          7890,
          7900,
          7910,
          7920,
          7930,
          7940,
          7950,
          7960,
          7970,
          7980,
          7990,
          8000,
          8010,
          8020,
          8030,
          8040,
          8050,
          8060,
          8070,
          8080,
          8090,
          8100,
          8110,
          8120,
          8130,
          8140,
          8150,
          8160,
          8170,
          8180,
          8190,
          8200,
          8210,
          8220,
          8230,
          8240,
          8250,
          8260,
          8270,
          8280,
          8290,
          8300,
          8310,
          8320,
          8330,
          8340,
          8350,
          8360,
          8370,
          8380,
          8390,
          8400,
          8410,
          8420,
          8430,
          8440,
          8450,
          8460,
          8470,
          8480,
          8490,
          8500,
          8510,
          8520,
          8530,
          8540,
          8550,
          8560,
          8570,
          8580,
          8590,
          8600,
          8610,
          8620,
          8630,
          8640,
          8650,
          8660,
          8670,
          8680,
          8690,
          8700,
          8710,
          8720,
          8730,
          8740,
          8750,
          8760,
          8770,
          8780,
          8790,
          8800,
          8810,
          8820,
          8830,
          8840,
          8850,
          8860,
          8870,
          8880,
          8890,
          8900,
          8910,
          8920,
          8930,
          8940,
          8950,
          8960,
          8970,
          8980,
          8990,
          9000,
          9010,
          9020,
          9030,
          9040,
          9050,
          9060,
          9070,
          9080,
          9090,
          9100,
          9110,
          9120,
          9130,
          9140,
          9150,
          9160,
          9170,
          9180,
          9190,
          9200,
          9210,
          9220,
          9230,
          9240,
          9250,
          9260,
          9270,
          9280,
          9290,
          9300,
          9310,
          9320,
          9330,
          9340,
          9350,
          9360,
          9370,
          9380,
          9390,
          9400,
          9410,
          9420,
          9430,
          9440,
          9450,
          9460,
          9470,
          9480,
          9490,
          9500,
          9510,
          9520,
          9530,
          9540,
          9550,
          9560,
          9570,
          9580,
          9590,
          9600,
          9610,
          9620,
          9630,
          9640,
          9650,
          9660,
          9670,
          9680,
          9690,
          9700,
          9710,
          9720,
          9730,
          9740,
          9750,
          9760,
          9770,
          9780,
          9790,
          9800,
          9810,
          9820,
          9830,
          9840,
          9850,
          9860,
          9870,
          9880,
          9890,
          9900,
          9910,
          9920,
          9930,
          9940,
          9950,
          9960,
          9970,
          9980,
          9990
         ],
         "y": [
          0,
          0.19619000000000597,
          0.22354000000001178,
          0.39238000000001194,
          0.7948699999999916,
          0.9910599999999795,
          1.0184099999999852,
          1.1872499999999853,
          1.214599999999973,
          1.8365699999999925,
          1.950570000000007,
          2.146760000000013,
          2.2495100000000092,
          2.4457000000000337,
          2.8208400000000253,
          3.0170300000000134,
          3.044380000000019,
          3.240570000000007,
          3.240570000000007,
          3.862540000000008,
          3.889890000000014,
          4.1727299999999925,
          4.200079999999979,
          4.396269999999986,
          4.821909999999989,
          5.042999999999993,
          5.018099999999995,
          5.266539999999987,
          5.29228000000001,
          5.8885100000000055,
          5.86360999999999,
          6.226050000000013,
          6.173800000000028,
          6.422240000000001,
          6.772480000000014,
          7.020920000000006,
          7.044070000000029,
          7.292510000000038,
          7.318250000000026,
          7.9418299999999915,
          7.889580000000006,
          8.138020000000015,
          8.227120000000014,
          8.823350000000008,
          8.798450000000011,
          9.046890000000003,
          9.021990000000004,
          9.293720000000013,
          9.643960000000025,
          9.915550000000021,
          9.942900000000009,
          10.11173999999999,
          10.139089999999996,
          10.824419999999991,
          10.824419999999991,
          11.02060999999998,
          11.047959999999966,
          11.294789999999994,
          11.669930000000003,
          11.866119999999992,
          11.893469999999997,
          12.16506000000003,
          12.16506000000003,
          12.850390000000006,
          12.877740000000012,
          13.046580000000013,
          13.124570000000022,
          13.320760000000028,
          13.723250000000005,
          13.892090000000007,
          13.919440000000014,
          14.115630000000001,
          14.115630000000001,
          14.762360000000008,
          14.851459999999989,
          15.099899999999996,
          15.098289999999997,
          15.346730000000006,
          15.696970000000018,
          15.945409999999994,
          15.893160000000005,
          16.141600000000018,
          16.1167,
          16.712930000000036,
          16.688030000000055,
          17.176510000000018,
          17.151609999999966,
          17.74783999999996,
          17.72293999999998,
          17.97137999999999,
          17.946480000000008,
          18.167569999999976,
          18.517809999999955,
          18.766249999999964,
          18.713999999999977,
          19.127080000000003,
          19.102179999999986,
          19.67350999999997,
          19.74891,
          19.945099999999986,
          20.19353999999999,
          20.168639999999975,
          20.76487000000001,
          20.739970000000028,
          21.039050000000024,
          20.986800000000038,
          21.349240000000027,
          21.699480000000005,
          21.947920000000014,
          21.895670000000027,
          22.21951000000001,
          22.19461000000003,
          22.818190000000033,
          22.76594000000001,
          23.065020000000004,
          23.040120000000027,
          23.26121000000003,
          23.725450000000002,
          23.97389000000001,
          23.948989999999995,
          24.17008,
          24.145180000000018,
          24.79190999999999,
          24.819259999999996,
          25.038739999999983,
          25.066089999999985,
          25.262280000000008,
          25.751420000000014,
          25.947610000000005,
          25.974960000000006,
          26.171150000000033,
          26.546290000000006,
          26.742479999999997,
          26.820469999999986,
          26.989309999999968,
          27.092059999999986,
          27.66339,
          27.69074,
          27.973580000000002,
          28.000929999999975,
          28.19711999999996,
          28.59960999999996,
          28.768449999999973,
          28.84644,
          29.042629999999992,
          29.042629999999992,
          29.613960000000006,
          29.66446,
          29.912900000000008,
          29.974650000000004,
          30.223090000000013,
          30.573330000000027,
          30.872409999999984,
          30.820159999999998,
          31.068600000000007,
          31.04369999999999,
          31.63993000000002,
          31.615030000000043,
          31.863470000000056,
          32.027970000000025,
          32.24906000000003,
          32.599300000000035,
          32.898379999999996,
          32.873480000000015,
          33.09456999999998,
          33.06967000000001,
          33.693250000000006,
          33.64100000000002,
          33.88943999999999,
          33.86454000000001,
          34.226980000000005,
          34.67590999999999,
          34.87209999999999,
          34.89945,
          35.09563999999998,
          35.470779999999976,
          35.666970000000006,
          35.69431999999997,
          35.863159999999986,
          35.89050999999999,
          36.57584000000001,
          36.65383,
          36.82266999999998,
          36.85001999999999,
          37.12161000000002,
          37.52409999999998,
          37.69294,
          37.720290000000006,
          37.91647999999999,
          37.91647999999999,
          38.53845000000003,
          38.679800000000014,
          38.87599000000004,
          38.87599000000004,
          39.072180000000024,
          39.42242,
          39.74626,
          39.69400999999998,
          39.942449999999994,
          39.91755000000001,
          40.56441999999999,
          40.760610000000014,
          40.90196000000002,
          41.098150000000025,
          41.098150000000025,
          41.66948,
          41.696830000000006,
          41.86567000000001,
          41.96842000000002,
          42.21525,
          42.61773999999999,
          42.78657999999997,
          42.927929999999996,
          43.12412000000002,
          43.15146999999999,
          43.69545,
          43.72280000000001,
          43.918989999999994,
          43.918989999999994,
          44.54096,
          44.51606000000002,
          44.83989999999998,
          44.78764999999999,
          45.15009000000002,
          45.50032999999999,
          45.74877000000001,
          45.69652000000002,
          45.94496000000003,
          45.97070000000003,
          46.56693000000003,
          46.54203000000001,
          46.79047000000002,
          46.76557000000005,
          47.06206000000004,
          47.52629999999999,
          47.77474,
          47.749839999999985,
          47.97092999999999,
          47.99667000000003,
          48.620250000000034,
          48.56800000000001,
          48.81644000000002,
          48.791540000000005,
          49.039980000000014,
          49.47687000000002,
          49.748459999999994,
          49.77581000000001,
          49.97199999999999,
          50.022639999999996,
          50.59397000000001,
          50.62132000000001,
          50.790160000000014,
          50.81751,
          51.01369999999999,
          51.41619000000001,
          51.69903000000002,
          51.72638000000003,
          52.048610000000004,
          52.07596000000001,
          52.61994000000002,
          52.647290000000034,
          52.84348000000002,
          52.84348000000002,
          53.41481,
          53.44216000000001,
          53.638350000000024,
          53.75235000000001,
          53.99917999999998,
          54.40166999999998,
          54.57050999999999,
          54.621010000000005,
          54.86945000000002,
          54.844550000000005,
          55.440780000000004,
          55.415880000000016,
          55.66431999999999,
          55.80405999999998,
          56.02514999999998,
          56.37538999999999,
          56.62383,
          56.57158000000001,
          56.820019999999985,
          56.87052000000001,
          57.49410000000002,
          57.441849999999995,
          57.69029,
          57.71603,
          58.07846999999998,
          58.401360000000025,
          58.6498,
          58.62490000000001,
          58.845990000000015,
          58.82109000000001,
          59.39242000000002,
          59.495169999999995,
          59.71464999999997,
          59.741999999999976,
          59.93818999999999,
          60.45468,
          60.62352000000003,
          60.87196,
          60.847059999999985,
          61.06814999999999,
          61.41839,
          61.666830000000004,
          61.69257000000001,
          61.913660000000014,
          62.33930000000002,
          62.70174000000003,
          62.67684000000001,
          62.89793000000002,
          62.87303000000003,
          63.49661,
          63.44436000000001,
          63.74344000000001,
          63.71853999999999,
          63.96698000000001,
          64.28987000000001,
          64.48606,
          64.70281000000003,
          64.89900000000002,
          64.89900000000002,
          65.47033000000003,
          65.49767999999997,
          65.71716,
          65.74451,
          65.94069999999999,
          66.34319000000004,
          66.51203000000001,
          66.53938000000001,
          66.84957000000003,
          66.92497000000003,
          67.4963,
          67.57429,
          67.77047999999999,
          67.77047999999999,
          67.96666999999998,
          68.36915999999998,
          68.56534999999995,
          68.56534999999995,
          68.87553999999997,
          68.90288999999997,
          69.44686999999999,
          69.54800999999996,
          69.79644999999996,
          69.77154999999999,
          69.99264,
          70.34288000000001,
          70.59132000000001,
          70.56642,
          70.78751,
          71.25175000000003,
          71.55083000000006,
          71.49858000000003,
          71.74702000000005,
          71.72212000000003,
          72.42110000000004,
          72.36885000000002,
          72.61729000000004,
          72.59239000000002,
          72.84083000000003,
          73.27772000000002,
          73.57680000000005,
          73.55189999999999,
          73.77299000000002,
          73.74809000000005,
          74.37166999999998,
          74.34676999999999,
          74.59101,
          74.61836,
          74.81454999999998,
          75.21704000000001,
          75.55052,
          75.57787,
          75.77405999999999,
          75.77405999999999,
          76.34539000000001,
          76.37274000000002,
          76.56893,
          76.56893,
          76.84051999999996,
          77.29365000000001,
          77.48984,
          77.60383999999998,
          77.80002999999996,
          77.82737999999998,
          78.37136,
          78.39871,
          78.59489999999998,
          78.62224999999998,
          78.79108999999997,
          79.19196999999994,
          79.44040999999997,
          79.60491000000002,
          79.82599999999998,
          80.17624000000004,
          80.42468000000001,
          80.37243000000002,
          80.62087,
          80.59597000000002,
          81.27019000000007,
          81.43903000000006,
          81.46637999999999,
          81.66257000000004,
          81.77657000000002,
          82.42330000000003,
          82.45065000000002,
          82.64684000000004,
          82.64684000000004,
          82.84303000000004,
          83.29616000000001,
          83.49235,
          83.49235,
          83.68853999999999,
          83.71589,
          84.37387000000003,
          84.34896999999997,
          84.67281000000003,
          84.64791000000005,
          84.91964,
          85.26987999999997,
          85.51832000000003,
          85.49342000000004,
          85.71451,
          85.68961000000003,
          86.42718999999998,
          86.37494,
          86.62338000000004,
          86.59847999999998,
          86.97296000000001,
          87.29584999999999,
          87.54429000000003,
          87.51938999999999,
          87.76783000000003,
          87.71557999999997,
          88.33915999999998,
          88.42826000000001,
          88.64934999999997,
          88.67508999999998,
          89.29866999999999,
          89.27377000000001,
          89.44260999999999,
          89.54536,
          89.74154999999999,
          90.14404000000002,
          90.31288,
          90.34023,
          90.65042000000001,
          90.70106,
          91.27239000000002,
          91.29974000000001,
          91.49593,
          91.49593,
          91.69212,
          92.17001000000003,
          92.36620000000003,
          92.36620000000003,
          92.72703000000001,
          92.75438000000001,
          93.29836000000003,
          93.32571000000004,
          93.52190000000003,
          93.54925000000003,
          93.71809,
          94.12058000000005,
          94.31677000000003,
          94.33992000000005,
          94.63900000000002,
          94.72810000000001,
          95.35168000000002,
          95.29943000000003,
          95.54787,
          95.52297000000002,
          95.77141,
          96.09430000000005,
          96.34274000000002,
          96.36848000000002,
          96.58957000000005,
          96.56467000000008,
          97.37765000000007,
          97.35275000000001,
          97.57384000000006,
          97.54894,
          98.17252,
          98.14762000000002,
          98.36871,
          98.39445,
          98.64288999999997,
          98.96578000000001,
          99.27597000000002,
          99.30332000000001,
          99.57490999999999,
          99.57490999999999,
          100.14624,
          100.17359000000002,
          100.36977999999999,
          100.42042000000002,
          100.61661,
          101.01910000000001,
          101.18794000000003,
          101.55038,
          101.52547999999999,
          101.77392,
          102.17221000000005,
          102.42065000000002,
          102.44639000000002,
          102.69483000000008,
          102.64258000000001,
          103.26616000000001,
          103.24126000000004,
          103.46235000000009,
          103.55145000000012,
          103.79989000000009,
          104.15013000000006,
          104.31897000000005,
          104.47235999999998,
          104.66854999999995,
          104.69589999999998,
          105.23987999999997,
          105.26722999999998,
          105.46341999999997,
          105.57741999999999,
          105.77361000000005,
          106.17609999999999,
          106.42293000000005,
          106.42293000000005,
          106.61912000000004,
          107.02161000000001,
          107.29320000000007,
          107.29320000000007,
          107.48939000000006,
          107.51674000000007,
          108.17471999999997,
          108.20206999999999,
          108.44890000000002,
          108.47625000000004,
          108.64509000000002,
          109.04757999999998,
          109.24376999999996,
          109.19151999999998,
          109.51536,
          109.49045999999996,
          110.22803999999996,
          110.22642999999997,
          110.47487000000001,
          110.44996999999996,
          110.69840999999994,
          111.02129999999997,
          111.26973999999994,
          111.24483999999997,
          111.46593,
          111.44102999999997,
          112.14000999999996,
          112.27975,
          112.50084000000007,
          112.47594000000001,
          112.72438000000005,
          113.07462000000004,
          113.29571,
          113.27081000000001,
          113.51925000000007,
          113.46700000000001,
          114.08897,
          114.11632,
          114.42651000000001,
          114.50191000000002,
          114.6981,
          115.10059000000001,
          115.29678000000001,
          115.29678000000001,
          115.49297000000003,
          115.89546000000001,
          116.11494000000002,
          116.14229000000003,
          116.45248,
          116.47982999999999,
          117.02381000000001,
          117.12655999999998,
          117.32274999999998,
          117.3501,
          117.51893999999996,
          117.97206999999999,
          118.16826,
          118.16826,
          118.36445,
          118.50579999999997,
          119.07713000000004,
          119.02488000000004,
          119.27332000000001,
          119.32382000000005,
          119.57226000000003,
          119.94579000000004,
          120.19423000000002,
          120.16932999999996,
          120.39042000000002,
          120.36552000000003,
          121.10310000000004,
          121.07820000000007,
          121.29929000000004,
          121.27439000000007,
          121.57347,
          122.19284999999995,
          122.22019999999998,
          122.41638999999995,
          122.44373999999996,
          122.61258000000001,
          123.12906999999996,
          123.32525999999994,
          123.35260999999996,
          123.52144999999992,
          123.59943999999996,
          124.17077,
          124.11851999999999,
          124.36696,
          124.41746000000002,
          125.04104000000001,
          124.98879000000001,
          125.35123000000006,
          125.32633000000001,
          125.57477000000006,
          125.94830000000002,
          126.19673999999999,
          126.17184000000002,
          126.39292999999998,
          126.36803,
          126.99161000000001,
          127.04211000000004,
          127.2632,
          127.35230000000004,
          127.65137999999997,
          128.00162000000003,
          128.22271000000006,
          128.19781000000003,
          128.44625000000008,
          128.394,
          129.01758,
          128.99268000000004,
          129.18887000000004,
          129.37827000000001,
          129.62509999999997,
          130.02759,
          130.22378,
          130.22378,
          130.41996999999998,
          130.44732,
          130.99130000000002,
          131.01865,
          131.21484,
          131.29283,
          131.57567,
          131.97816000000003,
          132.24975000000003,
          132.27710000000005,
          132.44594,
          132.47329000000002,
          133.04462000000004,
          133.04462000000004,
          133.24081,
          133.3188,
          133.89013000000003,
          133.95188000000005,
          134.20032000000003,
          134.17542000000003,
          134.47190999999998,
          134.82214999999997,
          135.07059,
          135.04569000000004,
          135.31741999999997,
          135.29252,
          135.9161,
          136.00519999999995,
          136.22629,
          136.20139000000003,
          136.44983,
          136.77272,
          137.09655999999995,
          137.07165999999998,
          137.37074,
          137.31849000000003,
          137.94207000000003,
          137.91716999999997,
          138.27960999999996,
          138.22735999999998,
          138.47580000000002,
          138.82603999999998,
          138.99487999999997,
          139.07286999999997,
          139.34446,
          139.37181,
          139.91579000000002,
          139.94314,
          140.13933,
          140.28068000000002,
          140.44952000000004,
          140.85201000000006,
          141.04820000000004,
          141.09884000000002,
          141.29503,
          141.32238,
          141.89371000000003,
          142.19019999999998,
          142.16529999999997,
          142.52773999999997,
          142.87798000000004,
          143.09906999999998,
          143.12481,
          143.37324999999996,
          143.321,
          143.94458000000006,
          143.91968000000003,
          144.11587,
          144.11587,
          144.38746000000006,
          144.90395000000004,
          145.10014,
          145.15078000000003,
          145.34697,
          145.37432,
          145.9183,
          145.94565,
          146.14183999999997,
          146.16918999999996,
          146.33803,
          146.85452000000006,
          147.17675000000006,
          147.2041000000001,
          147.37294000000006,
          147.40029000000007,
          147.9716200000001,
          147.9716200000001,
          148.16781000000006,
          148.19516000000007,
          148.39135000000005,
          148.76649,
          149.12731999999994,
          149.10241999999997,
          149.3235099999999,
          149.37401,
          149.99759,
          149.97269,
          150.19377999999998,
          150.16888,
          150.41732000000002,
          150.76756000000003,
          151.03929000000005,
          151.12839,
          151.37683000000004,
          151.69972,
          151.94816,
          151.99866000000003,
          152.2471,
          152.19485,
          152.81843,
          152.84417000000002,
          153.09261000000006,
          153.15436000000003,
          153.40279999999998,
          153.75303999999997,
          153.92188000000002,
          153.94923000000003,
          154.14542000000003,
          154.24817000000002,
          154.79215000000005,
          154.87014000000005,
          155.06633000000005,
          155.09368000000006,
          155.37652000000003,
          155.77900999999997,
          155.97519999999997,
          155.97519999999997,
          156.17139000000003,
          156.19874000000002,
          156.82071,
          156.89611000000002,
          157.09230000000002,
          157.11965000000004,
          157.31584000000004,
          157.80498000000009,
          158.0011700000001,
          158.0285200000001,
          158.1973600000001,
          158.2247100000001,
          158.84668000000002,
          158.82178000000005,
          159.04287000000008,
          159.01797000000008,
          159.34181000000004,
          159.80605000000003,
          160.02714,
          160.00224000000003,
          160.25068000000007,
          160.6242100000001,
          160.87265000000005,
          160.84775000000002,
          161.09619000000006,
          161.04394000000008,
          161.66752000000008,
          161.64262000000002,
          162.05310999999995,
          162.02820999999997,
          162.27665,
          162.89862000000008,
          162.89862000000008,
          163.09481,
          163.12216,
          163.31835000000007,
          163.69349000000003,
          163.88968000000003,
          163.86478000000002,
          164.1998700000001,
          164.30101000000002,
          164.92459000000002,
          164.89969000000005,
          165.12078000000008,
          165.09588000000005,
          165.34432,
          165.69456000000005,
          165.9156500000001,
          165.89075000000005,
          166.25319000000002,
          166.25158000000002,
          166.87515999999997,
          166.85026,
          167.17409999999998,
          167.12184999999997,
          167.37028999999995,
          167.72053,
          167.96896999999998,
          167.91672,
          168.21579999999994,
          168.30489999999998,
          168.90112999999997,
          168.87623,
          169.07241999999997,
          169.09976999999998,
          169.71915,
          169.74650000000003,
          169.94269,
          169.97004,
          170.1895199999999,
          170.59200999999993,
          170.9022,
          170.9022,
          171.09839,
          171.12574,
          171.69706999999994,
          171.69706999999994,
          171.96865999999997,
          172.04665000000003,
          172.2428400000001,
          172.61798000000005,
          172.92817,
          172.95552,
          173.12436000000005,
          173.15171000000004,
          173.72304,
          173.69814000000002,
          173.91922999999997,
          173.94497,
          174.26880999999997,
          174.61905000000002,
          174.84014,
          174.92924000000002,
          175.17768,
          175.12543,
          175.74901,
          175.72411000000002,
          175.97255000000007,
          175.9709400000001,
          176.21938000000006,
          176.56961999999996,
          176.79071,
          176.84121000000005,
          177.20364999999993,
          177.17874999999995,
          177.77497999999997,
          177.75008,
          178.04916000000003,
          178.02425999999997,
          178.62049000000002,
          178.59559,
          178.79177999999996,
          178.79177999999996,
          179.10197000000002,
          179.57986000000002,
          179.77605,
          179.77605,
          180.02288,
          180.05022999999997,
          180.62156,
          180.62156,
          180.81775,
          180.84509999999997,
          181.01393999999996,
          181.53043000000002,
          181.72662,
          181.88001000000006,
          182.04885000000002,
          182.07619999999994,
          182.64753,
          182.89597,
          182.84372000000002,
          183.09215999999998,
          183.06726000000003,
          183.77749000000003,
          183.75259000000005,
          183.99942000000001,
          184.02677000000003,
          184.19561000000002,
          184.67350000000008,
          184.86969000000005,
          184.89704000000003,
          185.06588000000005,
          185.09323000000003,
          185.66456000000005,
          185.82920000000004,
          186.02539000000004,
          186.05274000000006,
          186.24893000000006,
          186.62407,
          186.82026,
          186.92301,
          187.11919999999998,
          187.49434,
          187.69053000000008,
          187.76852000000005,
          188.05136000000007,
          188.07871000000006,
          188.65004000000008,
          188.6773900000001,
          188.84623000000008,
          188.8213300000001,
          189.06977000000006,
          189.46806000000004,
          189.76713999999998,
          189.74224,
          190.10467999999995,
          190.05242999999993,
          190.67601000000002,
          190.65110999999996,
          190.89955,
          190.84730000000002,
          191.09574,
          191.44597999999996,
          191.71771,
          191.76821000000004,
          192.01665,
          192.10575000000006,
          192.70198000000005,
          192.67708000000005,
          192.92552000000003,
          192.90062000000006,
          193.12171000000004,
          193.52258999999998,
          193.71877999999998,
          193.71877999999998,
          193.91496999999995,
          193.94231999999997,
          194.70304999999996,
          194.70304999999996,
          194.89924000000002,
          194.92659000000003,
          195.12278000000003,
          195.54856000000012,
          195.74475,
          195.77210000000002,
          195.94094,
          196.34343000000004,
          196.65361999999996,
          196.68096999999997,
          196.92520999999994,
          196.95255999999995,
          197.57453,
          197.60188000000002,
          197.77072,
          197.79807,
          197.99426,
          198.36939999999993,
          198.56559000000001,
          198.65469000000004,
          198.90313,
          198.85088000000005,
          199.60049999999995,
          199.57559999999998,
          199.82403999999997,
          199.77178999999995,
          200.02022999999994,
          200.37046999999995,
          200.59155999999993,
          200.56665999999996,
          200.9291,
          200.9042,
          201.55107000000007,
          201.52616999999998,
          201.77461,
          201.79775999999995,
          202.04619999999994,
          202.39644,
          202.64487999999997
         ]
        }
       ],
       "layout": {
        "template": {
         "data": {
          "bar": [
           {
            "error_x": {
             "color": "#f2f5fa"
            },
            "error_y": {
             "color": "#f2f5fa"
            },
            "marker": {
             "line": {
              "color": "rgb(17,17,17)",
              "width": 0.5
             },
             "pattern": {
              "fillmode": "overlay",
              "size": 10,
              "solidity": 0.2
             }
            },
            "type": "bar"
           }
          ],
          "barpolar": [
           {
            "marker": {
             "line": {
              "color": "rgb(17,17,17)",
              "width": 0.5
             },
             "pattern": {
              "fillmode": "overlay",
              "size": 10,
              "solidity": 0.2
             }
            },
            "type": "barpolar"
           }
          ],
          "carpet": [
           {
            "aaxis": {
             "endlinecolor": "#A2B1C6",
             "gridcolor": "#506784",
             "linecolor": "#506784",
             "minorgridcolor": "#506784",
             "startlinecolor": "#A2B1C6"
            },
            "baxis": {
             "endlinecolor": "#A2B1C6",
             "gridcolor": "#506784",
             "linecolor": "#506784",
             "minorgridcolor": "#506784",
             "startlinecolor": "#A2B1C6"
            },
            "type": "carpet"
           }
          ],
          "choropleth": [
           {
            "colorbar": {
             "outlinewidth": 0,
             "ticks": ""
            },
            "type": "choropleth"
           }
          ],
          "contour": [
           {
            "colorbar": {
             "outlinewidth": 0,
             "ticks": ""
            },
            "colorscale": [
             [
              0,
              "#0d0887"
             ],
             [
              0.1111111111111111,
              "#46039f"
             ],
             [
              0.2222222222222222,
              "#7201a8"
             ],
             [
              0.3333333333333333,
              "#9c179e"
             ],
             [
              0.4444444444444444,
              "#bd3786"
             ],
             [
              0.5555555555555556,
              "#d8576b"
             ],
             [
              0.6666666666666666,
              "#ed7953"
             ],
             [
              0.7777777777777778,
              "#fb9f3a"
             ],
             [
              0.8888888888888888,
              "#fdca26"
             ],
             [
              1,
              "#f0f921"
             ]
            ],
            "type": "contour"
           }
          ],
          "contourcarpet": [
           {
            "colorbar": {
             "outlinewidth": 0,
             "ticks": ""
            },
            "type": "contourcarpet"
           }
          ],
          "heatmap": [
           {
            "colorbar": {
             "outlinewidth": 0,
             "ticks": ""
            },
            "colorscale": [
             [
              0,
              "#0d0887"
             ],
             [
              0.1111111111111111,
              "#46039f"
             ],
             [
              0.2222222222222222,
              "#7201a8"
             ],
             [
              0.3333333333333333,
              "#9c179e"
             ],
             [
              0.4444444444444444,
              "#bd3786"
             ],
             [
              0.5555555555555556,
              "#d8576b"
             ],
             [
              0.6666666666666666,
              "#ed7953"
             ],
             [
              0.7777777777777778,
              "#fb9f3a"
             ],
             [
              0.8888888888888888,
              "#fdca26"
             ],
             [
              1,
              "#f0f921"
             ]
            ],
            "type": "heatmap"
           }
          ],
          "histogram": [
           {
            "marker": {
             "pattern": {
              "fillmode": "overlay",
              "size": 10,
              "solidity": 0.2
             }
            },
            "type": "histogram"
           }
          ],
          "histogram2d": [
           {
            "colorbar": {
             "outlinewidth": 0,
             "ticks": ""
            },
            "colorscale": [
             [
              0,
              "#0d0887"
             ],
             [
              0.1111111111111111,
              "#46039f"
             ],
             [
              0.2222222222222222,
              "#7201a8"
             ],
             [
              0.3333333333333333,
              "#9c179e"
             ],
             [
              0.4444444444444444,
              "#bd3786"
             ],
             [
              0.5555555555555556,
              "#d8576b"
             ],
             [
              0.6666666666666666,
              "#ed7953"
             ],
             [
              0.7777777777777778,
              "#fb9f3a"
             ],
             [
              0.8888888888888888,
              "#fdca26"
             ],
             [
              1,
              "#f0f921"
             ]
            ],
            "type": "histogram2d"
           }
          ],
          "histogram2dcontour": [
           {
            "colorbar": {
             "outlinewidth": 0,
             "ticks": ""
            },
            "colorscale": [
             [
              0,
              "#0d0887"
             ],
             [
              0.1111111111111111,
              "#46039f"
             ],
             [
              0.2222222222222222,
              "#7201a8"
             ],
             [
              0.3333333333333333,
              "#9c179e"
             ],
             [
              0.4444444444444444,
              "#bd3786"
             ],
             [
              0.5555555555555556,
              "#d8576b"
             ],
             [
              0.6666666666666666,
              "#ed7953"
             ],
             [
              0.7777777777777778,
              "#fb9f3a"
             ],
             [
              0.8888888888888888,
              "#fdca26"
             ],
             [
              1,
              "#f0f921"
             ]
            ],
            "type": "histogram2dcontour"
           }
          ],
          "mesh3d": [
           {
            "colorbar": {
             "outlinewidth": 0,
             "ticks": ""
            },
            "type": "mesh3d"
           }
          ],
          "parcoords": [
           {
            "line": {
             "colorbar": {
              "outlinewidth": 0,
              "ticks": ""
             }
            },
            "type": "parcoords"
           }
          ],
          "pie": [
           {
            "automargin": true,
            "type": "pie"
           }
          ],
          "scatter": [
           {
            "marker": {
             "line": {
              "color": "#283442"
             }
            },
            "type": "scatter"
           }
          ],
          "scatter3d": [
           {
            "line": {
             "colorbar": {
              "outlinewidth": 0,
              "ticks": ""
             }
            },
            "marker": {
             "colorbar": {
              "outlinewidth": 0,
              "ticks": ""
             }
            },
            "type": "scatter3d"
           }
          ],
          "scattercarpet": [
           {
            "marker": {
             "colorbar": {
              "outlinewidth": 0,
              "ticks": ""
             }
            },
            "type": "scattercarpet"
           }
          ],
          "scattergeo": [
           {
            "marker": {
             "colorbar": {
              "outlinewidth": 0,
              "ticks": ""
             }
            },
            "type": "scattergeo"
           }
          ],
          "scattergl": [
           {
            "marker": {
             "line": {
              "color": "#283442"
             }
            },
            "type": "scattergl"
           }
          ],
          "scattermap": [
           {
            "marker": {
             "colorbar": {
              "outlinewidth": 0,
              "ticks": ""
             }
            },
            "type": "scattermap"
           }
          ],
          "scattermapbox": [
           {
            "marker": {
             "colorbar": {
              "outlinewidth": 0,
              "ticks": ""
             }
            },
            "type": "scattermapbox"
           }
          ],
          "scatterpolar": [
           {
            "marker": {
             "colorbar": {
              "outlinewidth": 0,
              "ticks": ""
             }
            },
            "type": "scatterpolar"
           }
          ],
          "scatterpolargl": [
           {
            "marker": {
             "colorbar": {
              "outlinewidth": 0,
              "ticks": ""
             }
            },
            "type": "scatterpolargl"
           }
          ],
          "scatterternary": [
           {
            "marker": {
             "colorbar": {
              "outlinewidth": 0,
              "ticks": ""
             }
            },
            "type": "scatterternary"
           }
          ],
          "surface": [
           {
            "colorbar": {
             "outlinewidth": 0,
             "ticks": ""
            },
            "colorscale": [
             [
              0,
              "#0d0887"
             ],
             [
              0.1111111111111111,
              "#46039f"
             ],
             [
              0.2222222222222222,
              "#7201a8"
             ],
             [
              0.3333333333333333,
              "#9c179e"
             ],
             [
              0.4444444444444444,
              "#bd3786"
             ],
             [
              0.5555555555555556,
              "#d8576b"
             ],
             [
              0.6666666666666666,
              "#ed7953"
             ],
             [
              0.7777777777777778,
              "#fb9f3a"
             ],
             [
              0.8888888888888888,
              "#fdca26"
             ],
             [
              1,
              "#f0f921"
             ]
            ],
            "type": "surface"
           }
          ],
          "table": [
           {
            "cells": {
             "fill": {
              "color": "#506784"
             },
             "line": {
              "color": "rgb(17,17,17)"
             }
            },
            "header": {
             "fill": {
              "color": "#2a3f5f"
             },
             "line": {
              "color": "rgb(17,17,17)"
             }
            },
            "type": "table"
           }
          ]
         },
         "layout": {
          "annotationdefaults": {
           "arrowcolor": "#f2f5fa",
           "arrowhead": 0,
           "arrowwidth": 1
          },
          "autotypenumbers": "strict",
          "coloraxis": {
           "colorbar": {
            "outlinewidth": 0,
            "ticks": ""
           }
          },
          "colorscale": {
           "diverging": [
            [
             0,
             "#8e0152"
            ],
            [
             0.1,
             "#c51b7d"
            ],
            [
             0.2,
             "#de77ae"
            ],
            [
             0.3,
             "#f1b6da"
            ],
            [
             0.4,
             "#fde0ef"
            ],
            [
             0.5,
             "#f7f7f7"
            ],
            [
             0.6,
             "#e6f5d0"
            ],
            [
             0.7,
             "#b8e186"
            ],
            [
             0.8,
             "#7fbc41"
            ],
            [
             0.9,
             "#4d9221"
            ],
            [
             1,
             "#276419"
            ]
           ],
           "sequential": [
            [
             0,
             "#0d0887"
            ],
            [
             0.1111111111111111,
             "#46039f"
            ],
            [
             0.2222222222222222,
             "#7201a8"
            ],
            [
             0.3333333333333333,
             "#9c179e"
            ],
            [
             0.4444444444444444,
             "#bd3786"
            ],
            [
             0.5555555555555556,
             "#d8576b"
            ],
            [
             0.6666666666666666,
             "#ed7953"
            ],
            [
             0.7777777777777778,
             "#fb9f3a"
            ],
            [
             0.8888888888888888,
             "#fdca26"
            ],
            [
             1,
             "#f0f921"
            ]
           ],
           "sequentialminus": [
            [
             0,
             "#0d0887"
            ],
            [
             0.1111111111111111,
             "#46039f"
            ],
            [
             0.2222222222222222,
             "#7201a8"
            ],
            [
             0.3333333333333333,
             "#9c179e"
            ],
            [
             0.4444444444444444,
             "#bd3786"
            ],
            [
             0.5555555555555556,
             "#d8576b"
            ],
            [
             0.6666666666666666,
             "#ed7953"
            ],
            [
             0.7777777777777778,
             "#fb9f3a"
            ],
            [
             0.8888888888888888,
             "#fdca26"
            ],
            [
             1,
             "#f0f921"
            ]
           ]
          },
          "colorway": [
           "#636efa",
           "#EF553B",
           "#00cc96",
           "#ab63fa",
           "#FFA15A",
           "#19d3f3",
           "#FF6692",
           "#B6E880",
           "#FF97FF",
           "#FECB52"
          ],
          "font": {
           "color": "#f2f5fa"
          },
          "geo": {
           "bgcolor": "rgb(17,17,17)",
           "lakecolor": "rgb(17,17,17)",
           "landcolor": "rgb(17,17,17)",
           "showlakes": true,
           "showland": true,
           "subunitcolor": "#506784"
          },
          "hoverlabel": {
           "align": "left"
          },
          "hovermode": "closest",
          "mapbox": {
           "style": "dark"
          },
          "paper_bgcolor": "rgb(17,17,17)",
          "plot_bgcolor": "rgb(17,17,17)",
          "polar": {
           "angularaxis": {
            "gridcolor": "#506784",
            "linecolor": "#506784",
            "ticks": ""
           },
           "bgcolor": "rgb(17,17,17)",
           "radialaxis": {
            "gridcolor": "#506784",
            "linecolor": "#506784",
            "ticks": ""
           }
          },
          "scene": {
           "xaxis": {
            "backgroundcolor": "rgb(17,17,17)",
            "gridcolor": "#506784",
            "gridwidth": 2,
            "linecolor": "#506784",
            "showbackground": true,
            "ticks": "",
            "zerolinecolor": "#C8D4E3"
           },
           "yaxis": {
            "backgroundcolor": "rgb(17,17,17)",
            "gridcolor": "#506784",
            "gridwidth": 2,
            "linecolor": "#506784",
            "showbackground": true,
            "ticks": "",
            "zerolinecolor": "#C8D4E3"
           },
           "zaxis": {
            "backgroundcolor": "rgb(17,17,17)",
            "gridcolor": "#506784",
            "gridwidth": 2,
            "linecolor": "#506784",
            "showbackground": true,
            "ticks": "",
            "zerolinecolor": "#C8D4E3"
           }
          },
          "shapedefaults": {
           "line": {
            "color": "#f2f5fa"
           }
          },
          "sliderdefaults": {
           "bgcolor": "#C8D4E3",
           "bordercolor": "rgb(17,17,17)",
           "borderwidth": 1,
           "tickwidth": 0
          },
          "ternary": {
           "aaxis": {
            "gridcolor": "#506784",
            "linecolor": "#506784",
            "ticks": ""
           },
           "baxis": {
            "gridcolor": "#506784",
            "linecolor": "#506784",
            "ticks": ""
           },
           "bgcolor": "rgb(17,17,17)",
           "caxis": {
            "gridcolor": "#506784",
            "linecolor": "#506784",
            "ticks": ""
           }
          },
          "title": {
           "x": 0.05
          },
          "updatemenudefaults": {
           "bgcolor": "#506784",
           "borderwidth": 0
          },
          "xaxis": {
           "automargin": true,
           "gridcolor": "#283442",
           "linecolor": "#506784",
           "ticks": "",
           "title": {
            "standoff": 15
           },
           "zerolinecolor": "#283442",
           "zerolinewidth": 2
          },
          "yaxis": {
           "automargin": true,
           "gridcolor": "#283442",
           "linecolor": "#506784",
           "ticks": "",
           "title": {
            "standoff": 15
           },
           "zerolinecolor": "#283442",
           "zerolinewidth": 2
          }
         }
        },
        "title": {
         "text": "Order size and profit"
        },
        "xaxis": {
         "rangeslider": {
          "visible": false
         },
         "title": {
          "text": "Order size ($)"
         }
        },
        "yaxis": {
         "title": {
          "text": "Profit (%)"
         }
        }
       }
      }
     },
     "metadata": {},
     "output_type": "display_data"
    }
   ],
   "source": [
    "bt.show_order_size_profit()"
   ]
  }
 ],
 "metadata": {
  "kernelspec": {
   "display_name": "venv",
   "language": "python",
   "name": "python3"
  },
  "language_info": {
   "codemirror_mode": {
    "name": "ipython",
    "version": 3
   },
   "file_extension": ".py",
   "mimetype": "text/x-python",
   "name": "python",
   "nbconvert_exporter": "python",
   "pygments_lexer": "ipython3",
   "version": "3.11.4"
  }
 },
 "nbformat": 4,
 "nbformat_minor": 2
}
